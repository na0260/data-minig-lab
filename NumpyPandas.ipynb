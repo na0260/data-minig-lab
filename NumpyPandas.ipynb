{
  "nbformat": 4,
  "nbformat_minor": 0,
  "metadata": {
    "colab": {
      "provenance": [],
      "authorship_tag": "ABX9TyOKBkinaJh/OF60SC73wq4f",
      "include_colab_link": true
    },
    "kernelspec": {
      "name": "python3",
      "display_name": "Python 3"
    },
    "language_info": {
      "name": "python"
    }
  },
  "cells": [
    {
      "cell_type": "markdown",
      "metadata": {
        "id": "view-in-github",
        "colab_type": "text"
      },
      "source": [
        "<a href=\"https://colab.research.google.com/github/na0260/data-minig-lab/blob/main/NumpyPandas.ipynb\" target=\"_parent\"><img src=\"https://colab.research.google.com/assets/colab-badge.svg\" alt=\"Open In Colab\"/></a>"
      ]
    },
    {
      "cell_type": "code",
      "execution_count": 1,
      "metadata": {
        "id": "5Gac510JdkhY"
      },
      "outputs": [],
      "source": [
        "import numpy as np"
      ]
    },
    {
      "cell_type": "code",
      "source": [
        "number = [1,2,3,4,5]\n",
        "print(np.array(number)) #1d array\n",
        "print(number[-1]) #last element of array\n",
        "print(number[::-1]) #reverse the array\n",
        "numbers = [1,2,3,4,5],[\"hello\",\"world\"]\n",
        "print(np.array(numbers)) #2d array"
      ],
      "metadata": {
        "colab": {
          "base_uri": "https://localhost:8080/"
        },
        "id": "dpDTiUoOdqcm",
        "outputId": "8b660702-4de4-4c16-a2f3-1f36bf8eef45"
      },
      "execution_count": 9,
      "outputs": [
        {
          "output_type": "stream",
          "name": "stdout",
          "text": [
            "[1 2 3 4 5]\n",
            "5\n",
            "[5, 4, 3, 2, 1]\n",
            "[list([1, 2, 3, 4, 5]) list(['hello', 'world'])]\n"
          ]
        },
        {
          "output_type": "stream",
          "name": "stderr",
          "text": [
            "<ipython-input-9-133e9358166a>:6: VisibleDeprecationWarning: Creating an ndarray from ragged nested sequences (which is a list-or-tuple of lists-or-tuples-or ndarrays with different lengths or shapes) is deprecated. If you meant to do this, you must specify 'dtype=object' when creating the ndarray.\n",
            "  print(np.array(numbers)) #2d array\n"
          ]
        }
      ]
    },
    {
      "cell_type": "code",
      "source": [
        "eye_mat = np.eye(4) #diagonals\n",
        "print(eye_mat)"
      ],
      "metadata": {
        "colab": {
          "base_uri": "https://localhost:8080/"
        },
        "id": "9-5tILjJeXJ0",
        "outputId": "bf0b1baa-2190-486b-8543-0901d4a66d7c"
      },
      "execution_count": 4,
      "outputs": [
        {
          "output_type": "stream",
          "name": "stdout",
          "text": [
            "[[1. 0. 0. 0.]\n",
            " [0. 1. 0. 0.]\n",
            " [0. 0. 1. 0.]\n",
            " [0. 0. 0. 1.]]\n"
          ]
        }
      ]
    },
    {
      "cell_type": "code",
      "source": [
        "rand_num = np.random.randint(0,100,15) #random number from a range\n",
        "print(rand_num)"
      ],
      "metadata": {
        "colab": {
          "base_uri": "https://localhost:8080/"
        },
        "id": "0G6IBdMiesni",
        "outputId": "47bc1e9c-d9e0-4678-98cd-dea2a8eb3eaa"
      },
      "execution_count": 7,
      "outputs": [
        {
          "output_type": "stream",
          "name": "stdout",
          "text": [
            "[68 49 18 51 57 82 82 80 19 48 18 35 82 38 55]\n"
          ]
        }
      ]
    },
    {
      "cell_type": "code",
      "source": [
        "mat = np.arange(1,26).reshape(5,5) #create matrix using aranged value\n",
        "print(mat)"
      ],
      "metadata": {
        "colab": {
          "base_uri": "https://localhost:8080/"
        },
        "id": "-3JlJeasfrjr",
        "outputId": "c08740b8-0bf2-4cab-f4ef-92d6bd1f3587"
      },
      "execution_count": 10,
      "outputs": [
        {
          "output_type": "stream",
          "name": "stdout",
          "text": [
            "[[ 1  2  3  4  5]\n",
            " [ 6  7  8  9 10]\n",
            " [11 12 13 14 15]\n",
            " [16 17 18 19 20]\n",
            " [21 22 23 24 25]]\n"
          ]
        }
      ]
    },
    {
      "cell_type": "code",
      "source": [
        "new_arr = np.arange(10)\n",
        "new_arr.reshape(2,-1) # 1d to 2d array"
      ],
      "metadata": {
        "colab": {
          "base_uri": "https://localhost:8080/"
        },
        "id": "wODutFqygy5r",
        "outputId": "228b4750-936a-4694-8999-919930f30ec3"
      },
      "execution_count": 23,
      "outputs": [
        {
          "output_type": "execute_result",
          "data": {
            "text/plain": [
              "array([[0, 1, 2, 3, 4],\n",
              "       [5, 6, 7, 8, 9]])"
            ]
          },
          "metadata": {},
          "execution_count": 23
        }
      ]
    },
    {
      "cell_type": "code",
      "source": [
        "new_arr[(new_arr >=3) & (new_arr <= 6)]"
      ],
      "metadata": {
        "colab": {
          "base_uri": "https://localhost:8080/"
        },
        "id": "0HLf3G3RiYso",
        "outputId": "3605b2f5-76fb-4e1f-8097-5b9f12e5ec1d"
      },
      "execution_count": 22,
      "outputs": [
        {
          "output_type": "execute_result",
          "data": {
            "text/plain": [
              "array([3, 4, 5, 6])"
            ]
          },
          "metadata": {},
          "execution_count": 22
        }
      ]
    },
    {
      "cell_type": "code",
      "source": [
        "x = np.array([1,10,5,6,3])\n",
        "y = np.array([2,10,5,6,4])\n",
        "np.intersect1d(x,y) #common element between two array"
      ],
      "metadata": {
        "colab": {
          "base_uri": "https://localhost:8080/"
        },
        "id": "gx-ka_MRhVRK",
        "outputId": "c0f7a832-d970-43ea-8f4e-21a38b454dbc"
      },
      "execution_count": 19,
      "outputs": [
        {
          "output_type": "execute_result",
          "data": {
            "text/plain": [
              "array([ 5,  6, 10])"
            ]
          },
          "metadata": {},
          "execution_count": 19
        }
      ]
    },
    {
      "cell_type": "code",
      "source": [
        "import pandas as pd\n",
        "simple_dict  = {\"x\":1, \"y\":2 ,\"z\":3}\n",
        "series = pd.Series(simple_dict) #create series\n",
        "series.name = 'numbers'\n",
        "print(series)"
      ],
      "metadata": {
        "colab": {
          "base_uri": "https://localhost:8080/"
        },
        "id": "kmoL7jjWilAH",
        "outputId": "7440be84-414c-423e-9143-f24cf33bcb27"
      },
      "execution_count": 28,
      "outputs": [
        {
          "output_type": "stream",
          "name": "stdout",
          "text": [
            "x    1\n",
            "y    2\n",
            "z    3\n",
            "Name: numbers, dtype: int64\n"
          ]
        }
      ]
    },
    {
      "cell_type": "code",
      "source": [
        "sim_ser = pd.Series(np.random.randint(1,30,25))\n",
        "dataFrame = pd.DataFrame(sim_ser.values.reshape(5,5)) #convert numpy arrays into pandas dataframe\n",
        "print(dataFrame)"
      ],
      "metadata": {
        "colab": {
          "base_uri": "https://localhost:8080/"
        },
        "id": "jJY_rst6j5z-",
        "outputId": "830292b2-bc89-4989-e760-e8d3e83e5c5b"
      },
      "execution_count": 30,
      "outputs": [
        {
          "output_type": "stream",
          "name": "stdout",
          "text": [
            "    0   1   2   3   4\n",
            "0  26   1  12   5  26\n",
            "1  22  17  29  24   3\n",
            "2   4   2  27   9  26\n",
            "3   9   7   7  28   4\n",
            "4  15   8  24  14  19\n"
          ]
        }
      ]
    }
  ]
}